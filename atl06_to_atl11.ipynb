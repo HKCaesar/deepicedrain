{
 "cells": [
  {
   "cell_type": "markdown",
   "metadata": {},
   "source": [
    "# **ATL06 to ATL11**\n",
    "\n",
    "Converting the ICESat-2 ATL06 (Land Ice Height) product to ATL11 (Land Ice Height Changes).\n",
    "Also convert the ATL11 file format from HDF5 to [Zarr](https://zarr.readthedocs.io/)."
   ]
  },
  {
   "cell_type": "code",
   "execution_count": 1,
   "metadata": {},
   "outputs": [],
   "source": [
    "import os\n",
    "import glob\n",
    "import sys\n",
    "import subprocess\n",
    "\n",
    "import dask\n",
    "import dask.distributed\n",
    "import h5py\n",
    "import intake\n",
    "import itertools\n",
    "import matplotlib.pyplot as plt\n",
    "import numpy as np\n",
    "import pandas as pd\n",
    "import pyproj\n",
    "import tqdm\n",
    "import xarray as xr\n",
    "import zarr\n",
    "\n",
    "os.environ[\"HDF5_USE_FILE_LOCKING\"] = \"FALSE\""
   ]
  },
  {
   "cell_type": "code",
   "execution_count": 2,
   "metadata": {},
   "outputs": [
    {
     "data": {
      "text/html": [
       "<table style=\"border: 2px solid white;\">\n",
       "<tr>\n",
       "<td style=\"vertical-align: top; border: 0px solid white\">\n",
       "<h3 style=\"text-align: left;\">Client</h3>\n",
       "<ul style=\"text-align: left; list-style: none; margin: 0; padding: 0;\">\n",
       "  <li><b>Scheduler: </b>tcp://127.0.0.1:33217</li>\n",
       "  <li><b>Dashboard: </b><a href='http://127.0.0.1:8787/status' target='_blank'>http://127.0.0.1:8787/status</a></li>\n",
       "</ul>\n",
       "</td>\n",
       "<td style=\"vertical-align: top; border: 0px solid white\">\n",
       "<h3 style=\"text-align: left;\">Cluster</h3>\n",
       "<ul style=\"text-align: left; list-style:none; margin: 0; padding: 0;\">\n",
       "  <li><b>Workers: </b>64</li>\n",
       "  <li><b>Cores: </b>64</li>\n",
       "  <li><b>Memory: </b>201.22 GB</li>\n",
       "</ul>\n",
       "</td>\n",
       "</tr>\n",
       "</table>"
      ],
      "text/plain": [
       "<Client: 'tcp://127.0.0.1:33217' processes=64 threads=64, memory=201.22 GB>"
      ]
     },
     "execution_count": 2,
     "metadata": {},
     "output_type": "execute_result"
    }
   ],
   "source": [
    "client = dask.distributed.Client(n_workers=64, threads_per_worker=1)\n",
    "client"
   ]
  },
  {
   "cell_type": "code",
   "execution_count": 3,
   "metadata": {
    "lines_to_next_cell": 2
   },
   "outputs": [],
   "source": [
    "# Create ATL06_to_ATL11 processing script, if not already present\n",
    "if not os.path.exists(\"ATL06_to_ATL11_Antarctica.sh\"):\n",
    "    # find number of cycles for each reference ground track and each orbital segment\n",
    "    func = lambda ref_gt, orb_st: len(\n",
    "        glob.glob(f\"ATL06.003/**/ATL06*_*_{ref_gt:04d}??{orb_st}_*.h5\")\n",
    "    )\n",
    "    futures = []\n",
    "    for referencegroundtrack in range(1387, 0, -1):\n",
    "        for orbitalsegment in [10, 11, 12]:  # loop through Antarctic orbital segments\n",
    "            numcycles = client.submit(\n",
    "                func,\n",
    "                referencegroundtrack,\n",
    "                orbitalsegment,\n",
    "                key=f\"{referencegroundtrack:04d}-{orbitalsegment}\",\n",
    "            )\n",
    "            futures.append(numcycles)\n",
    "\n",
    "    # Prepare string to write into ATL06_to_ATL11_Antarctica.sh bash script\n",
    "    writelines = []\n",
    "    for f in tqdm.tqdm(\n",
    "        iterable=dask.distributed.as_completed(futures=futures), total=len(futures)\n",
    "    ):\n",
    "        referencegroundtrack, orbitalsegment = f.key.split(\"-\")\n",
    "        cycles = f.result()\n",
    "        writelines.append(\n",
    "            f\"python3 ATL11/ATL06_to_ATL11.py\"\n",
    "            f\" {referencegroundtrack} {orbitalsegment}\"\n",
    "            f\" --cycles 01 {cycles:02d}\"\n",
    "            f\" --Release 3\"\n",
    "            f\" --directory 'ATL06.003/**/'\"\n",
    "            f\" --out_dir ATL11.001\\n\",\n",
    "        )\n",
    "    writelines.sort()  # sort writelines in place\n",
    "\n",
    "    # Finally create the bash script\n",
    "    with open(file=\"ATL06_to_ATL11_Antarctica.sh\", mode=\"w\") as f:\n",
    "        f.writelines(writelines)"
   ]
  },
  {
   "cell_type": "markdown",
   "metadata": {},
   "source": [
    "Now use [GNU parallel](https://www.gnu.org/software/parallel/parallel_tutorial.html) to run the script in parallel.\n",
    "Will take about 1 week to run on 64 cores.\n",
    "\n",
    "Reference:\n",
    "\n",
    "- O. Tange (2018): GNU Parallel 2018, Mar 2018, ISBN 9781387509881, DOI https://doi.org/10.5281/zenodo.1146014"
   ]
  },
  {
   "cell_type": "code",
   "execution_count": 4,
   "metadata": {},
   "outputs": [],
   "source": [
    "# !PYTHONPATH=`pwd` PYTHONWARNINGS=\"ignore\" parallel -a ATL06_to_ATL11_Antarctica.sh --bar --results logdir --joblog log --jobs 64 > /dev/null"
   ]
  },
  {
   "cell_type": "markdown",
   "metadata": {},
   "source": [
    "## Convert from HDF5 to Zarr format\n",
    "\n",
    "For faster data access speeds!\n",
    "We'll collect the data for each Reference Ground Track,\n",
    "and store it inside a Zarr format.\n",
    "\n",
    "Grouping hierarchy:\n",
    "  - Reference Ground Track (1-1387)\n",
    "    - Orbital Segments (10, 11, 12)\n",
    "      - Laser Pairs (pt1, pt2, pt3)\n",
    "        - Attributes (longitude, latitude, h_corr, delta_time, etc)"
   ]
  },
  {
   "cell_type": "code",
   "execution_count": 5,
   "metadata": {
    "lines_to_next_cell": 1
   },
   "outputs": [
    {
     "name": "stdout",
     "output_type": "stream",
     "text": [
      "6 ICESat-2 cycles available\n"
     ]
    }
   ],
   "source": [
    "# for atl11file in tqdm.tqdm(iterable=sorted(glob.glob(\"ATL11.001/*.h5\"))):\n",
    "#     name = os.path.basename(p=os.path.splitext(p=atl11file)[0])\n",
    "\n",
    "max_cycles: int = max([int(f[-12:-11]) for f in glob.glob(\"ATL11.001/*.h5\")])\n",
    "print(f\"{max_cycles} ICESat-2 cycles available\")"
   ]
  },
  {
   "cell_type": "code",
   "execution_count": 6,
   "metadata": {},
   "outputs": [],
   "source": [
    "@dask.delayed\n",
    "def open_ATL11(atl11file: str, group: str) -> xr.Dataset:\n",
    "    \"\"\"\n",
    "    Opens up an ATL11 file using xarray and does some light pre-processing:\n",
    "    - Mask values using _FillValue ??\n",
    "    - Convert attribute format from binary to str\n",
    "    - Rename 'quality_summary' to f'quality_summary_{subgroup}'\n",
    "    \"\"\"\n",
    "    pair, subgroup = group.split(\"/\")\n",
    "    ds = xr.open_dataset(\n",
    "        filename_or_obj=atl11file,\n",
    "        group=f\"{pair}/{subgroup}\",\n",
    "        engine=\"h5netcdf\",\n",
    "        mask_and_scale=True,\n",
    "    )\n",
    "\n",
    "    # Change xarray.Dataset attributes from binary to str type\n",
    "    # fixes issue when saving to Zarr format later\n",
    "    # TypeError: Object of type bytes is not JSON serializable\n",
    "    for key, variable in ds.variables.items():\n",
    "        assert isinstance(ds[key].DIMENSION_LABELS, np.ndarray)\n",
    "        ds[key].attrs[\"DIMENSION_LABELS\"] = (\n",
    "            ds[key].attrs[\"DIMENSION_LABELS\"].astype(str)\n",
    "        )\n",
    "\n",
    "    # Rename quality_summary variable to avoid name class when merging\n",
    "    ds = ds.rename({\"quality_summary\": f\"quality_summary_{subgroup}\"})\n",
    "\n",
    "    return ds"
   ]
  },
  {
   "cell_type": "code",
   "execution_count": 7,
   "metadata": {
    "lines_to_next_cell": 2
   },
   "outputs": [
    {
     "name": "stderr",
     "output_type": "stream",
     "text": [
      "100%|██████████| 1387/1387 [00:08<00:00, 170.72it/s]\n"
     ]
    }
   ],
   "source": [
    "# Consolidate together Antarctic orbital segments 10, 11, 12 into one file\n",
    "# Also consolidate all three laser pairs pt1, pt2, pt3 into one file\n",
    "atl11_dict = {}\n",
    "for rgt in tqdm.trange(1387):\n",
    "    atl11files: list = glob.glob(f\"ATL11.001/ATL11_{rgt+1:04d}1?_????_??_v00?.h5\")\n",
    "\n",
    "    # Manually handle exceptional cases\n",
    "    try:\n",
    "        assert len(atl11files) == 3  # Should be 3 files for Orbital Segments 10,11,12\n",
    "    except AssertionError:\n",
    "        if (len(atl11files) == 0 and rgt + 1 in [47, 214]) or (\n",
    "            len(atl11files) == 2\n",
    "            and rgt + 1 in [31, 54, 73, 100, 106, 161, 603, 915, 1045, 1106, 1151]\n",
    "        ):\n",
    "            pass\n",
    "        else:\n",
    "            raise\n",
    "    # Note [\"ATL11.001/ATL11_014512_0103_03_v001.h5\", \"ATL11.001/ATL11_115810_0104_03_v001.h5\"]\n",
    "    # are missing pt2 and pt3 groups\n",
    "\n",
    "    if atl11files:\n",
    "        pattern: dict = intake.source.utils.reverse_format(\n",
    "            format_string=\"ATL11.001/ATL11_{referencegroundtrack:4}{orbitalsegment:2}_{cycles:4}_{revision:2}_v{version:3}.h5\",\n",
    "            resolved_string=sorted(atl11files)[1],\n",
    "        )\n",
    "        zarrfilepath: str = \"ATL11.001z123/ATL11_{referencegroundtrack}1x_{cycles}_{revision}_v{version}.zarr\".format(\n",
    "            **pattern\n",
    "        )\n",
    "        atl11_dict[zarrfilepath] = atl11files"
   ]
  },
  {
   "cell_type": "code",
   "execution_count": 8,
   "metadata": {},
   "outputs": [
    {
     "name": "stderr",
     "output_type": "stream",
     "text": [
      "100%|██████████| 1385/1385 [00:33<00:00, 41.79it/s]\n"
     ]
    }
   ],
   "source": [
    "# Gather up all the dask.delayed conversion tasks to store data into Zarr!\n",
    "stores = []\n",
    "for zarrfilepath, atl11files in tqdm.tqdm(iterable=atl11_dict.items()):\n",
    "    zarr.open(store=zarrfilepath, mode=\"w\")  # Make a new file/overwrite existing\n",
    "    datasets = []\n",
    "    for atl11file in atl11files:  # Orbital Segments: 10, 11, 12\n",
    "        for pair in (\"pt1\", \"pt2\", \"pt3\"):  # Laser pairs: pt1, pt2, pt3\n",
    "            # Attributes: longitude, latitude, h_corr, delta_time, etc\n",
    "            corrected_height_ds = open_ATL11(\n",
    "                atl11file=atl11file, group=f\"{pair}/corrected_h\"\n",
    "            )\n",
    "            reference_surface_ds = open_ATL11(\n",
    "                atl11file=atl11file, group=f\"{pair}/ref_surf\"\n",
    "            )\n",
    "            ds = dask.delayed(obj=xr.combine_by_coords)(\n",
    "                datasets=[corrected_height_ds, reference_surface_ds]\n",
    "            )\n",
    "\n",
    "            # Special exceptions to skip over\n",
    "            if atl11file in (\n",
    "                \"ATL11.001/ATL11_014512_0103_03_v001.h5\",\n",
    "                \"ATL11.001/ATL11_115810_0104_03_v001.h5\",\n",
    "            ) and pair in (\"pt2\", \"pt3\"):\n",
    "                continue\n",
    "                # print(atl11file, pair)\n",
    "                # xr.open_dataset(\n",
    "                #    atl11file, engine=\"h5netcdf\", group=pair,\n",
    "                # )  # will fail as is missing\n",
    "            datasets.append(ds)\n",
    "\n",
    "    dataset = dask.delayed(obj=xr.concat)(objs=datasets, dim=\"ref_pt\")\n",
    "    store_task = dataset.to_zarr(store=zarrfilepath, mode=\"w\", consolidated=True)\n",
    "    stores.append(store_task)"
   ]
  },
  {
   "cell_type": "code",
   "execution_count": 9,
   "metadata": {},
   "outputs": [
    {
     "name": "stderr",
     "output_type": "stream",
     "text": [
      "100%|██████████| 1385/1385 [39:46<00:00,  1.72s/it]\n"
     ]
    }
   ],
   "source": [
    "# Do all the HDF5 to Zarr conversion!\n",
    "# Check conversion progress here, https://stackoverflow.com/a/37901797/6611055\n",
    "futures = [client.compute(store_task) for store_task in stores]\n",
    "for f in tqdm.tqdm(\n",
    "    iterable=dask.distributed.as_completed(futures=futures), total=len(stores)\n",
    "):\n",
    "    pass"
   ]
  },
  {
   "cell_type": "code",
   "execution_count": 10,
   "metadata": {
    "lines_to_next_cell": 2
   },
   "outputs": [
    {
     "data": {
      "text/plain": [
       "(147664, 4)"
      ]
     },
     "execution_count": 10,
     "metadata": {},
     "output_type": "execute_result"
    }
   ],
   "source": [
    "ds = xr.open_dataset(\n",
    "    zarrfilepath, engine=\"zarr\", backend_kwargs={\"consolidated\": True},\n",
    ")\n",
    "ds.h_corr.__array__().shape"
   ]
  },
  {
   "cell_type": "raw",
   "metadata": {
    "lines_to_next_cell": 2
   },
   "source": [
    "# Note, this raw conversion below takes about 11 hours\n",
    "# because HDF5 files work on a single thread...\n",
    "for atl11file in tqdm.tqdm(iterable=sorted(glob.glob(\"ATL11.001/*.h5\"))):\n",
    "    name = os.path.basename(p=os.path.splitext(p=atl11file)[0])\n",
    "    zarr.convenience.copy_all(\n",
    "        source=h5py.File(name=atl11file, mode=\"r\"),\n",
    "        dest=zarr.open_group(store=f\"ATL11.001z/{name}.zarr\", mode=\"w\"),\n",
    "        if_exists=\"skip\",\n",
    "        without_attrs=True,\n",
    "    )"
   ]
  }
 ],
 "metadata": {
  "jupytext": {
   "cell_metadata_filter": "title,-all",
   "formats": "ipynb,py:hydrogen"
  },
  "kernelspec": {
   "display_name": "deepicedrain",
   "language": "python",
   "name": "deepicedrain"
  },
  "language_info": {
   "codemirror_mode": {
    "name": "ipython",
    "version": 3
   },
   "file_extension": ".py",
   "mimetype": "text/x-python",
   "name": "python",
   "nbconvert_exporter": "python",
   "pygments_lexer": "ipython3",
   "version": "3.8.2"
  }
 },
 "nbformat": 4,
 "nbformat_minor": 4
}
